{
 "cells": [
  {
   "cell_type": "markdown",
   "metadata": {},
   "source": [
    "# Write and SFT to a file"
   ]
  },
  {
   "cell_type": "code",
   "execution_count": 1,
   "metadata": {},
   "outputs": [],
   "source": [
    "from soap import cw\n",
    "import numpy as np"
   ]
  },
  {
   "cell_type": "markdown",
   "metadata": {},
   "source": [
    "## Load gwf file and save to SFT files"
   ]
  },
  {
   "cell_type": "code",
   "execution_count": 3,
   "metadata": {},
   "outputs": [],
   "source": [
    "# load timeseries from file \n",
    "gwf_ts = cw.timeseries.LoadTimeSeries(\"./data/H-H1_CWINJ_TOT-963400064-128.gwf\",channel_name = \"H1:CWINJ_TOT\")"
   ]
  },
  {
   "cell_type": "code",
   "execution_count": null,
   "metadata": {},
   "outputs": [],
   "source": [
    "# write time series to sfts, with tsft at 64s\n",
    "gwf_sft = gwf_ts.write_sft_from_timeseries(\"./\",64)"
   ]
  },
  {
   "cell_type": "markdown",
   "metadata": {},
   "source": [
    "## Save separate sft files for each sft with all frequencies"
   ]
  },
  {
   "cell_type": "code",
   "execution_count": 2,
   "metadata": {},
   "outputs": [],
   "source": [
    "#generate a random timeseries\n",
    "timeseries = cw.timeseries.TimeSeries()\n",
    "#set sampling rate\n",
    "timeseries.delta_t = 1./2048\n",
    "# set start time\n",
    "timeseries.start_time = 912387454\n",
    "# set the detector\n",
    "timeseries.det_name = \"H1\"\n",
    "# generate time series\n",
    "timeseries.timeseries = np.random.normal(size=(int((1./timeseries.delta_t)*18000)))"
   ]
  },
  {
   "cell_type": "code",
   "execution_count": 12,
   "metadata": {},
   "outputs": [
    {
     "name": "stdout",
     "output_type": "stream",
     "text": [
      "Segment not correct length, omitting SFT no 23\n",
      "Segment not correct length, omitting SFT no 24\n"
     ]
    }
   ],
   "source": [
    "# generate sfts from timeseries as numpy array\n",
    "tsft = 1800\n",
    "sfts = timeseries.sfts_from_timeseries(tsft,real=False,overlap=0.0)\n",
    "#write the sfts to this directory\n",
    "sfts.write_sft_files(\"./\")"
   ]
  },
  {
   "cell_type": "code",
   "execution_count": 9,
   "metadata": {},
   "outputs": [],
   "source": [
    "# or this can be done in a single line\n",
    "timeseries.write_sft_from_timeseries(\"./\",tsft)"
   ]
  },
  {
   "cell_type": "markdown",
   "metadata": {},
   "source": [
    "## Save a narrowband SFT between fmin and fmax"
   ]
  },
  {
   "cell_type": "code",
   "execution_count": 11,
   "metadata": {},
   "outputs": [],
   "source": [
    "sfts.write_sft_files(\"./\",narrowband=True)"
   ]
  },
  {
   "cell_type": "markdown",
   "metadata": {},
   "source": [
    "## Write own SFT to file"
   ]
  },
  {
   "cell_type": "code",
   "execution_count": 2,
   "metadata": {},
   "outputs": [],
   "source": [
    "# define a random timeseries\n",
    "dt = 2048\n",
    "ts = np.random.normal(size=(int(dt*1800)))"
   ]
  },
  {
   "cell_type": "code",
   "execution_count": 3,
   "metadata": {},
   "outputs": [],
   "source": [
    "# get the fft and its frequencies (also a hann window)\n",
    "fft = np.fft.fft(ts*np.hanning(len(ts)))\n",
    "freqs = np.fft.fftfreq(len(fft), dt)[:int(len(fft)/2)]"
   ]
  },
  {
   "cell_type": "code",
   "execution_count": 4,
   "metadata": {},
   "outputs": [],
   "source": [
    "# create an SFT object\n",
    "sft = cw.sft.SFT()\n",
    "sft.sft = fft[:int(len(fft)/2)]\n",
    "sft.frequencies = freqs\n",
    "sft.det_name = \"H1\"\n",
    "sft.sample_frequency = dt\n",
    "sft.fmin = 0\n",
    "sft.fmax = 2048\n",
    "sft.tsft = 1800\n",
    "sft.start_time = 92385430\n",
    "sft.nsft = 1"
   ]
  },
  {
   "cell_type": "code",
   "execution_count": 5,
   "metadata": {},
   "outputs": [],
   "source": [
    "sft.write_sft_files(\"./\")"
   ]
  },
  {
   "cell_type": "code",
   "execution_count": null,
   "metadata": {},
   "outputs": [],
   "source": []
  }
 ],
 "metadata": {
  "kernelspec": {
   "display_name": "soap",
   "language": "python",
   "name": "soap"
  },
  "language_info": {
   "codemirror_mode": {
    "name": "ipython",
    "version": 3
   },
   "file_extension": ".py",
   "mimetype": "text/x-python",
   "name": "python",
   "nbconvert_exporter": "python",
   "pygments_lexer": "ipython3",
   "version": "3.7.3"
  }
 },
 "nbformat": 4,
 "nbformat_minor": 2
}
