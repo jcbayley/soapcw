{
 "cells": [
  {
   "cell_type": "markdown",
   "metadata": {},
   "source": [
    "# Bayesian line aware statistic"
   ]
  },
  {
   "attachments": {},
   "cell_type": "markdown",
   "metadata": {},
   "source": [
    "The single-detector algorithm described in previous sections returns the most probable track of the loudest signal assumed to be in Gaussian noise. However, an astrophysical signal is not expected to have an amplitude which is orders of magnitude above the noise floor, but have an amplitude more similar to the noise. Therefore, a signal with a large amplitude is more likely to be of instrumental origin rather than astrophysical.\n"
   ]
  },
  {
   "attachments": {},
   "cell_type": "markdown",
   "metadata": {},
   "source": [
    "To improve the ability of SOAP to detect astrophysical signals we use a bayesian \"line-aware\" statistic, which rewards the statistic when they have similar SNR in each detector."
   ]
  },
  {
   "attachments": {},
   "cell_type": "markdown",
   "metadata": {},
   "source": [
    "We first consider the model of Gaussian noise with no signal present. Within\n",
    "a single summed segment, the likelihood of Gaussian noise at\n",
    "frequency $\\nu$ is given by a $\\chi^2$ distribution,\n",
    "\n",
    "\\begin{equation}\n",
    "p(F_j|\\nu_j,M_{\\text{N}},I) = \\frac{1}{2^{d/2}\\Gamma(d/2)}F_j^{d/2 - 1}\\exp{\\left\\{\n",
    "\\frac{F_j}{2}\\right\\}}\n",
    "\\end{equation}\n",
    "\n",
    "where $F_j$ is the frequency domain power summed over sub-segments within a single day, as described in Sec.~\\ref{soap:sumdata} and  $d$ is the number of degrees of freedom,  equal to twice the total number of summed SFTs.  $M_{\\rm{N}}$ represents the model that the data is simply Gaussian noise. In the presence of a signal (model $M_{\\text{S}}$), the power should follow a non central $ \\chi^2 $ distribution in which the non-centrality parameter $\\lambda$ is the square of the \\gls{SNR}, $(\\lambda = \\rho_{\\rm{opt}}^2 )$, i.e.,\n",
    "\n",
    "\\begin{equation}\n",
    "\\begin{split}\n",
    "p(F_j|\\nu_j,\\lambda,M_{\\text{S}},I) = \\frac{1}{2} \\exp{\\left\\{ -\\frac{F_j+\\lambda}{2}\\right\\}} \\left( \\frac{F_j}{\\lambda} \\right)^{d/4 - 1/2} \\\\\n",
    "I_{d/2 -1}\\left( \\sqrt{\\lambda F_j}\\right).\n",
    "\\end{split}\n",
    "\\end{equation}\n"
   ]
  },
  {
   "attachments": {},
   "cell_type": "markdown",
   "metadata": {},
   "source": [
    "If a signal is present we therefore expect the \\gls{SFT} powers in the detector to follow Eq.~\\ref{soap:las:noncentral}.  We can then determine the evidence for model $M_{\\text{S}}$ by marginalising over $\\lambda$,\n",
    "\n",
    "\\begin{equation}\n",
    "\\begin{split}\n",
    "p(F^{(1)}_{j} \\mid \\nu_j,M_{\\rm{S}},I) = \\int_0^{\\infty}  p(\\lambda,w) \n",
    "p(F^{(1)}_{j}|\\nu_j,\\lambda,M_{\\text{S}},I) d\\lambda.\n",
    "\\end{split}\n",
    "\\end{equation}\n",
    "\n",
    "Here we set the prior on $\\lambda$ to be an exponential distribution of width $w$, this is done somewhat arbitrarily as we expect the majority of signals to have a low \\gls{SNR}. This distribution follows,\n",
    "\\begin{equation}\n",
    "p(\\lambda,w) = \\exp\\left( \\frac{-\\lambda}{w}\\right).\n",
    "\\end{equation}\n"
   ]
  },
  {
   "attachments": {},
   "cell_type": "markdown",
   "metadata": {},
   "source": [
    "In this single-detector case, we expect an astrophysical signal to look very similar to that of a line other than its amplitude (or SNR). Therefore, we set the evidence for an astrophysical signal and an instrumental signal to follow Eq.~\\ref{soap:las:signal:single}, where the width $w$ different between the two models.\n",
    "\n",
    "We then have three models, one for an astrophysical signal, one for an instrumental line and one for Gaussian noise. \n",
    "\n",
    "The posterior probability of model $M_{\\text{GL}}$, which contains the probability of Gaussian noise or Gaussian noise with a line (taken as mutually exclusive) is\n",
    "\\begin{equation}\n",
    "\\begin{split}\n",
    "p(M_{\\rm{GL}} \\mid F^{(1)}_{j},\\nu_j ,I) = p(M_{\\rm{G}} \\mid F^{(1)}_{j},\\nu_j ,I) \\\\\n",
    "+p(M_{\\rm{L}} \\mid F^{(1)}_{j} ,\\nu_j, I).\n",
    "\\end{split}\n",
    "\\end{equation}\n"
   ]
  },
  {
   "attachments": {},
   "cell_type": "markdown",
   "metadata": {},
   "source": [
    "We can now find the posterior odds ratio for the presence of a signal over noise or a line,\n",
    "\\begin{equation}\n",
    "\\begin{split}\n",
    "O^{(1)}_{\\rm{S/GL}}(F^{(1)}_{j}\\mid\\nu_j) &=  \\frac{p(M_{\\rm{S}} \\mid F^{(1)}_{j} ,\\nu_j)}{p(M_{\\rm{GL}} \\mid F^{(1)}_{j},\\nu_j)}\n",
    "= \\frac{p(M_{\\rm{S}} \\mid F^{(1)}_{j} ,\\nu_j)}{p(M_{\\rm{G}} \\mid F^{(1)}_{j} ,\\nu_j) +p(M_{\\rm{L}} \\mid F^{(1)}_{j} ,\\nu_j)}\\\\\n",
    "&=\\frac{p(M_{\\rm{S}})p(F^{(1)}_{j} \\mid M_{\\rm{S}},\\nu_j)}{p(M_{\\rm{G}})p(F^{(1)}_{j}\\mid M_{\\rm{G}},\\nu_j) + p(M_{\\rm{L}})p(F^{(1)}_{j}\\mid M_{\\rm{L}},\\nu_j) } \\\\\n",
    "&= \\frac{p(F^{(1)}_{j} \\mid M_{\\rm{S}},\\nu_j)p(M_{\\rm{S}})/p(M_{\\rm{G}})}{p(F^{(1)}_{j}\\mid M_{\\rm{G}},\\nu_j) + p(F^{(1)}_{j}\\mid M_{\\rm{L}},\\nu_j)p(M_{\\rm{L}})/p(M_{\\rm{G}}) }\n",
    "\\end{split}\n",
    "\\end{equation}\n",
    "In practice it is convenient to use the log odds ratio,\n",
    "\\begin{equation}\n",
    "\\begin{split}\n",
    "\\log\\left[ O^{(1)}_{\\rm{S/GL}}(F^{(1)}_{j})\\right] &=  \\log\\left[ p(F^{(1)}_{j} \\mid M_{\\rm{S}}) \\right] \\\\\n",
    "&- \\left[ \\log\\left( p(F^{(1)}_{j}\\mid M_{\\rm{G}}) \\right. \\right. \\\\\n",
    "&\\left.\\left.+  p(F^{(1)}_{j}\\mid M_{\\rm{L}})p(M_{\\rm{L}})/p(M_{\\rm{G}})\\right) \\right]\n",
    "\\end{split}\n",
    "\\end{equation}\n"
   ]
  },
  {
   "attachments": {},
   "cell_type": "markdown",
   "metadata": {},
   "source": [
    "Most improvements can be made when running over multiple detectors, the multi-detectors line-aware statistic can be defined by following a similar derivation to the single detector case above\n",
    "\n",
    "\\begin{equation}\n",
    "\\begin{split}\n",
    "\\log\\left[ O^{(2)}_{\\rm{S/GL}}(F^{(1)}_{j},F^{(2)}_{j})\\right] &=  \\log\\left[ p(F^{(1)}_{j},F^{(2)}_{j} \\mid M_{\\rm{S}}) \\right] \\\\\n",
    "&- \\left[ \\log\\left( p(F^{(1)}_{j},F^{(2)}_{j}\\mid M_{\\rm{G}}) \\right. \\right. \\\\\n",
    "&\\left.\\left.+  p(F^{(1)}_{j},F^{(2)}_{j}\\mid M_{\\rm{L}})p(M_{\\rm{L}})/p(M_{\\rm{G}})\\right) \\right]\n",
    "\\end{split}\n",
    "\\end{equation}\n"
   ]
  }
 ],
 "metadata": {
  "kernelspec": {
   "display_name": "soap",
   "language": "python",
   "name": "soap"
  },
  "language_info": {
   "codemirror_mode": {
    "name": "ipython",
    "version": 3
   },
   "file_extension": ".py",
   "mimetype": "text/x-python",
   "name": "python",
   "nbconvert_exporter": "python",
   "pygments_lexer": "ipython3",
   "version": "3.7.3"
  }
 },
 "nbformat": 4,
 "nbformat_minor": 2
}
